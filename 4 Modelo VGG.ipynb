{
 "cells": [
  {
   "cell_type": "markdown",
   "metadata": {},
   "source": [
    "# Trabajo práctico integrador - Visión por Computadoras II\n",
    "## Carrera de Especialización en Inteligencia Artificial - Cohorte 17\n",
    "### Autores:\n",
    "* Piñero, Juan Cruz \n",
    "* Lloveras, Alejandro\n",
    "* Méndez, Diego Martín"
   ]
  },
  {
   "cell_type": "markdown",
   "metadata": {},
   "source": [
    "### Objetivo del trabajo\n",
    "\n",
    "> Procesar **54305** imágenes de hojas, pertenecientes a **14 especies** de plantas, utilizando modelos de *Computer Vision* para clasificar entre plantas saludables y múltiples enfermedades _**(38 clases en total)**_."
   ]
  },
  {
   "cell_type": "markdown",
   "metadata": {},
   "source": [
    "## Inicialización"
   ]
  },
  {
   "cell_type": "code",
   "execution_count": null,
   "metadata": {},
   "outputs": [],
   "source": [
    "# Importación de librerías\n",
    "# Gestión de archivos y utilidades\n",
    "import os\n",
    "import pickle\n",
    "\n",
    "# Machine Learning\n",
    "import keras\n",
    "import tensorflow as tf\n",
    "from sklearn.metrics import accuracy_score, f1_score\n",
    "\n",
    "# Librerías propias\n",
    "import data_utils\n",
    "from model_evaluation import evaluate_multiple_models, plot_model_comparison"
   ]
  },
  {
   "cell_type": "markdown",
   "metadata": {},
   "source": [
    "### Carga de datos almacenados"
   ]
  },
  {
   "cell_type": "code",
   "execution_count": null,
   "metadata": {},
   "outputs": [
    {
     "name": "stdout",
     "output_type": "stream",
     "text": [
      "               image_path                                           filename  \\\n",
      "id                                                                             \n",
      "0   Strawberry___healthy/  8f558908-aa1b-4a86-855a-5094c2392e5a___RS_HL 1...   \n",
      "1   Strawberry___healthy/  b8e9ed27-8e37-4214-9206-f8c0ef21cf4d___RS_HL 4...   \n",
      "2   Strawberry___healthy/  abdd34a0-ab02-41e0-95a3-a014ab863ec2___RS_HL 1...   \n",
      "3   Strawberry___healthy/  d1aee44a-b6bb-45b9-b7b6-5d553add8fd1___RS_HL 2...   \n",
      "4   Strawberry___healthy/  3d28c3ea-8419-4e09-addd-211e3828e39f___RS_HL 1...   \n",
      "\n",
      "                   class       group      tag  split  \n",
      "id                                                    \n",
      "0   Strawberry___healthy  Strawberry  healthy  train  \n",
      "1   Strawberry___healthy  Strawberry  healthy   test  \n",
      "2   Strawberry___healthy  Strawberry  healthy  train  \n",
      "3   Strawberry___healthy  Strawberry  healthy  train  \n",
      "4   Strawberry___healthy  Strawberry  healthy  train  \n"
     ]
    }
   ],
   "source": [
    "df_split = data_utils.import_dataset()"
   ]
  },
  {
   "cell_type": "code",
   "execution_count": null,
   "metadata": {},
   "outputs": [
    {
     "name": "stdout",
     "output_type": "stream",
     "text": [
      "✅ Se han cargado las variables de configuración desde 'constants.yaml'\n",
      " - ROOT_DIR: /Users/alejandrolloveras/.cache/kagglehub/datasets/abdallahalidev/plantvillage-dataset/versions/3/plantvillage dataset/color\n",
      " - DATASETS_ROOT: /Users/alejandrolloveras/.cache/kagglehub/datasets/abdallahalidev/plantvillage-dataset/\n",
      " - DATASET_PATH: /Users/alejandrolloveras/.cache/kagglehub/datasets/abdallahalidev/plantvillage-dataset/versions/3\n",
      " - SPLITTED_PATH: /Users/alejandrolloveras/.cache/kagglehub/datasets/abdallahalidev/plantvillage-dataset/splitted/\n",
      " - AUG_PATH: /Users/alejandrolloveras/.cache/kagglehub/datasets/abdallahalidev/plantvillage-dataset/augmented/\n"
     ]
    }
   ],
   "source": [
    "ROOT_DIR, DATASETS_ROOT, DATASET_PATH, SPLITTED_PATH, AUG_PATH = data_utils.import_from_yaml()"
   ]
  },
  {
   "cell_type": "markdown",
   "metadata": {},
   "source": [
    "---"
   ]
  },
  {
   "cell_type": "markdown",
   "metadata": {},
   "source": [
    "# Dataloader"
   ]
  },
  {
   "cell_type": "code",
   "execution_count": 47,
   "metadata": {
    "ExecuteTime": {
     "end_time": "2025-04-13T20:22:43.479100Z",
     "start_time": "2025-04-13T20:22:43.474845Z"
    }
   },
   "outputs": [
    {
     "data": {
      "text/plain": [
       "['train', 'test']"
      ]
     },
     "execution_count": 47,
     "metadata": {},
     "output_type": "execute_result"
    }
   ],
   "source": [
    "splits = df_split['split'].value_counts().index.tolist()\n",
    "splits"
   ]
  },
  {
   "cell_type": "code",
   "execution_count": null,
   "metadata": {
    "ExecuteTime": {
     "end_time": "2025-04-13T20:22:43.529882Z",
     "start_time": "2025-04-13T20:22:43.527410Z"
    }
   },
   "outputs": [],
   "source": [
    "# Data laoders setup\n",
    "def load_from_directory(data_folder,pretrained_net_preprocess = None):\n",
    "    \"\"\"\n",
    "    Carga un dataset de imágenes desde un directorio específico.\n",
    "\n",
    "    Args:\n",
    "        data_folder (str): Ruta al directorio que contiene las imágenes.\n",
    "\n",
    "    Returns:\n",
    "        tf.data.Dataset: Dataset de TensorFlow con las imágenes y etiquetas.\n",
    "    \"\"\"\n",
    "    dataset = tf.keras.preprocessing.image_dataset_from_directory(\n",
    "        data_folder,  # Ruta al directorio de datos\n",
    "        labels=\"inferred\",  # Las etiquetas se infieren automáticamente desde los nombres de las carpetas\n",
    "        label_mode=\"categorical\",  # Las etiquetas se codifican como categorías (one-hot encoding)\n",
    "        class_names=None,  # Las clases se detectan automáticamente\n",
    "        color_mode=\"rgb\",  # Las imágenes se cargan en modo RGB\n",
    "        batch_size=32,  # Tamaño de lote para el entrenamiento\n",
    "        image_size=(256, 256),  # Redimensiona las imágenes a 128x128 píxeles\n",
    "        shuffle=True,  # Mezcla las imágenes aleatoriamente\n",
    "        seed=42,  # No se utiliza una semilla específica para la aleatorización\n",
    "        validation_split=None,  # No se realiza una división de validación aquí\n",
    "        subset=None,  # No se especifica un subconjunto (train/validation)\n",
    "        interpolation=\"bilinear\",  # Método de interpolación para redimensionar las imágenes\n",
    "        follow_links=False,  # No sigue enlaces simbólicos\n",
    "        crop_to_aspect_ratio=False  # No recorta las imágenes para ajustar la relación de aspecto\n",
    "    )\n",
    "    class_names = dataset.class_names\n",
    "    if(pretrained_net_preprocess):\n",
    "        dataset = dataset.map(pretrained_net_preprocess)\n",
    "\n",
    "    return dataset, class_names"
   ]
  },
  {
   "cell_type": "code",
   "execution_count": 50,
   "metadata": {
    "ExecuteTime": {
     "end_time": "2025-04-13T20:22:47.298193Z",
     "start_time": "2025-04-13T20:22:46.046794Z"
    }
   },
   "outputs": [
    {
     "name": "stdout",
     "output_type": "stream",
     "text": [
      "Cargando datasets desde el directorio…\n",
      "\n",
      "Cargando dataset de entrenamiento desde:\n",
      " > /home/juan/.cache/kagglehub/datasets/abdallahalidev/plantvillage-dataset/splitted/train/\n",
      "Found 43444 files belonging to 38 classes.\n",
      "✅ Dataset cargado exitosamente.\n",
      "\n",
      "Cargando dataset de test desde:\n",
      " > /home/juan/.cache/kagglehub/datasets/abdallahalidev/plantvillage-dataset/splitted/test/\n",
      "Found 10861 files belonging to 38 classes.\n",
      "✅ Dataset cargado exitosamente.\n",
      "\n"
     ]
    }
   ],
   "source": [
    "# Carga el dataset de imágenes desde el directorio especificado\n",
    "train_images = \"\"; test_images = \"\"; valid_images = \"\"\n",
    "\n",
    "print(\"Cargando datasets desde el directorio…\\n\")\n",
    "for split in splits:\n",
    "    data_folder = f'{SPLITTED_PATH}{split}/'\n",
    "\n",
    "    # Carga el conjunto de datos desde el directorio especificado\n",
    "    # Utiliza la función de TensorFlow para crear un dataset de imágenes\n",
    "    match split:\n",
    "        case 'train':\n",
    "            print(f\"Cargando dataset de entrenamiento desde:\\n > {data_folder}\")\n",
    "            train_images,class_names_train = load_from_directory(data_folder,pretrained_net_preprocess = preprocess_function_vgg)\n",
    "        case 'test':\n",
    "            print(f\"Cargando dataset de test desde:\\n > {data_folder}\")\n",
    "            test_images,_ = load_from_directory(data_folder,pretrained_net_preprocess=preprocess_function_vgg)\n",
    "        case 'valid':\n",
    "            print(f\"Cargando dataset de validación desde:\\n > {data_folder}\")\n",
    "            valid_images , _= load_from_directory(data_folder,pretrained_net_preprocess=preprocess_function_vgg)\n",
    "        case _: # En caso de no coincidir con ninguno de los splits\n",
    "            print(f\"⚠️ El split '{split}' no es reconocido. No se cargará ningún dataset.\")\n",
    "            continue # Salta al siguiente split\n",
    "    print(f\"✅ Dataset cargado exitosamente.\\n\")"
   ]
  },
  {
   "cell_type": "markdown",
   "metadata": {},
   "source": [
    "Verificamos que los archivos se hayan cargado correctamente:"
   ]
  },
  {
   "cell_type": "code",
   "execution_count": 51,
   "metadata": {
    "ExecuteTime": {
     "end_time": "2025-04-13T20:22:47.309086Z",
     "start_time": "2025-04-13T20:22:47.306963Z"
    }
   },
   "outputs": [
    {
     "name": "stdout",
     "output_type": "stream",
     "text": [
      "Resumen de los datasets cargados:\n",
      " - Total de imágenes en el dataset de entrenamiento: 1358\n",
      " - Total de imágenes en el dataset de validación: 0\n",
      " - Total de imágenes en el dataset de test: 340\n",
      "Total de imágenes cargadas: 1698\n",
      "\n"
     ]
    }
   ],
   "source": [
    "print(\"Resumen de los datasets cargados:\")\n",
    "print(f\" - Total de imágenes en el dataset de entrenamiento: {len(train_images)}\")\n",
    "print(f\" - Total de imágenes en el dataset de validación: {len(valid_images)}\")\n",
    "print(f\" - Total de imágenes en el dataset de test: {len(test_images)}\")\n",
    "print(f\"Total de imágenes cargadas: {len(train_images) + len(test_images) + len(valid_images)}\\n\")"
   ]
  },
  {
   "cell_type": "code",
   "execution_count": 52,
   "metadata": {
    "ExecuteTime": {
     "end_time": "2025-04-13T20:22:47.357567Z",
     "start_time": "2025-04-13T20:22:47.355245Z"
    }
   },
   "outputs": [
    {
     "name": "stdout",
     "output_type": "stream",
     "text": [
      "Clases detectadas:\n",
      " - Apple___Apple_scab\n",
      " - Apple___Black_rot\n",
      " - Apple___Cedar_apple_rust\n",
      " - Apple___healthy\n",
      " - Blueberry___healthy\n",
      " - Cherry_(including_sour)___Powdery_mildew\n",
      " - Cherry_(including_sour)___healthy\n",
      " - Corn_(maize)___Cercospora_leaf_spot Gray_leaf_spot\n",
      " - Corn_(maize)___Common_rust_\n",
      " - Corn_(maize)___Northern_Leaf_Blight\n",
      " - Corn_(maize)___healthy\n",
      " - Grape___Black_rot\n",
      " - Grape___Esca_(Black_Measles)\n",
      " - Grape___Leaf_blight_(Isariopsis_Leaf_Spot)\n",
      " - Grape___healthy\n",
      " - Orange___Haunglongbing_(Citrus_greening)\n",
      " - Peach___Bacterial_spot\n",
      " - Peach___healthy\n",
      " - Pepper,_bell___Bacterial_spot\n",
      " - Pepper,_bell___healthy\n",
      " - Potato___Early_blight\n",
      " - Potato___Late_blight\n",
      " - Potato___healthy\n",
      " - Raspberry___healthy\n",
      " - Soybean___healthy\n",
      " - Squash___Powdery_mildew\n",
      " - Strawberry___Leaf_scorch\n",
      " - Strawberry___healthy\n",
      " - Tomato___Bacterial_spot\n",
      " - Tomato___Early_blight\n",
      " - Tomato___Late_blight\n",
      " - Tomato___Leaf_Mold\n",
      " - Tomato___Septoria_leaf_spot\n",
      " - Tomato___Spider_mites Two-spotted_spider_mite\n",
      " - Tomato___Target_Spot\n",
      " - Tomato___Tomato_Yellow_Leaf_Curl_Virus\n",
      " - Tomato___Tomato_mosaic_virus\n",
      " - Tomato___healthy\n",
      "Total de clases: 38\n"
     ]
    }
   ],
   "source": [
    "\n",
    "print(f\"Clases detectadas:\")\n",
    "[print(\" -\",clase) for clase in class_names_train]\n",
    "print(f\"Total de clases: {len(class_names_train)}\")"
   ]
  },
  {
   "cell_type": "markdown",
   "metadata": {},
   "source": [
    "----"
   ]
  },
  {
   "cell_type": "markdown",
   "metadata": {},
   "source": [
    "# Construcción del modelo"
   ]
  },
  {
   "cell_type": "markdown",
   "metadata": {},
   "source": [
    "## Arquitectura del modelo"
   ]
  },
  {
   "cell_type": "code",
   "execution_count": null,
   "metadata": {},
   "outputs": [
    {
     "name": "stderr",
     "output_type": "stream",
     "text": [
      "I0000 00:00:1744575765.447418  168203 gpu_device.cc:2019] Created device /job:localhost/replica:0/task:0/device:GPU:0 with 6102 MB memory:  -> device: 0, name: NVIDIA GeForce RTX 4070 Laptop GPU, pci bus id: 0000:01:00.0, compute capability: 8.9\n"
     ]
    }
   ],
   "source": [
    "# now we import the VGG Model from architecture.py file\n",
    "from architectures import VGG_TF\n",
    "from torchvision import transforms\n",
    "\n",
    "\n",
    "model_vgg = VGG_TF(num_classes=38, fine_tune_at=4)\n",
    "preprocess_function_vgg = model_vgg.preprocess\n",
    "\n",
    "model_vgg.compile(optimizer=tf.keras.optimizers.Adam(learning_rate=1e-5),\n",
    "                        loss='categorical_crossentropy',\n",
    "                        metrics=['f1_score'])\n",
    "\n",
    "# we reload the dataloader but indicating the transform parameter to match the VGG16's."
   ]
  },
  {
   "cell_type": "code",
   "execution_count": null,
   "metadata": {},
   "outputs": [
    {
     "name": "stderr",
     "output_type": "stream",
     "text": [
      "I0000 00:00:1745106898.700417  602147 gpu_device.cc:2019] Created device /job:localhost/replica:0/task:0/device:GPU:0 with 6103 MB memory:  -> device: 0, name: NVIDIA GeForce RTX 4070 Laptop GPU, pci bus id: 0000:01:00.0, compute capability: 8.9\n"
     ]
    },
    {
     "name": "stdout",
     "output_type": "stream",
     "text": [
      "[Model: vgg19]\n",
      "input_layer               | Trainable: False\n",
      "block1_conv1              | Trainable: False\n",
      "block1_conv2              | Trainable: False\n",
      "block1_pool               | Trainable: False\n",
      "block2_conv1              | Trainable: False\n",
      "block2_conv2              | Trainable: False\n",
      "block2_pool               | Trainable: False\n",
      "block3_conv1              | Trainable: False\n",
      "block3_conv2              | Trainable: False\n",
      "block3_conv3              | Trainable: False\n",
      "block3_conv4              | Trainable: False\n",
      "block3_pool               | Trainable: False\n",
      "block4_conv1              | Trainable: False\n",
      "block4_conv2              | Trainable: False\n",
      "block4_conv3              | Trainable: False\n",
      "block4_conv4              | Trainable: False\n",
      "block4_pool               | Trainable: False\n",
      "block5_conv1              | Trainable: False\n",
      "block5_conv2              | Trainable: False\n",
      "block5_conv3              | Trainable: False\n",
      "block5_conv4              | Trainable: True\n",
      "block5_pool               | Trainable: True\n",
      "block5_conv4              | Trainable: True\n",
      "max_pooling2d             | Trainable: True\n",
      "flatten                   | Trainable: True\n",
      "[Model: sequential]\n",
      "dense                     | Trainable: True\n",
      "dropout                   | Trainable: True\n",
      "dense_1                   | Trainable: True\n",
      "dropout_1                 | Trainable: True\n",
      "dense_2                   | Trainable: True\n"
     ]
    }
   ],
   "source": [
    "# now we import the VGG Model from architecture.py file\n",
    "from architectures import VGG_TF\n",
    "\n",
    "# fine tune at==> el numero de capas 'del final' que se van a entrenar, el resto quedan freezed\n",
    "\n",
    "model_vgg_2 = VGG_TF(num_classes=38, fine_tune_at=2)\n",
    "preprocess_function_vgg_2 = model_vgg_2.preprocess\n",
    "model_vgg_4 = VGG_TF(num_classes=38, fine_tune_at=4)\n",
    "preprocess_function_vgg_4 = model_vgg_4.preprocess\n",
    "model_vgg_6 = VGG_TF(num_classes=38, fine_tune_at=6)\n",
    "preprocess_function_vgg_6 = model_vgg_6.preprocess\n",
    "model_vgg_10 = VGG_TF(num_classes=38, fine_tune_at=10)\n",
    "preprocess_function_vgg_10 = model_vgg_10.preprocess\n",
    "def print_all_layers(model):\n",
    "    for layer in model.layers:\n",
    "        if isinstance(layer, tf.keras.Model):  # This includes models like VGG19 or Sequential\n",
    "            print(f\"[Model: {layer.name}]\")\n",
    "            print_all_layers(layer)  # Recursively print sub-layers\n",
    "        else:\n",
    "            print(f\"{layer.name:<25} | Trainable: {layer.trainable}\")\n",
    "\n",
    "print_all_layers(model_vgg_2)\n",
    "\n",
    "model_vgg_2.compile(optimizer=tf.keras.optimizers.Adam(learning_rate=1e-5),\n",
    "                        loss='categorical_crossentropy',\n",
    "                        metrics=['f1_score','accuracy'])\n",
    "\n",
    "model_vgg_4.compile(optimizer=tf.keras.optimizers.Adam(learning_rate=1e-5),\n",
    "                        loss='categorical_crossentropy',\n",
    "                        metrics=['f1_score','accuracy'])\n",
    "\n",
    "model_vgg_6.compile(optimizer=tf.keras.optimizers.Adam(learning_rate=1e-5),\n",
    "                        loss='categorical_crossentropy',\n",
    "                        metrics=['f1_score','accuracy'])\n",
    "\n",
    "model_vgg_10.compile(optimizer=tf.keras.optimizers.Adam(learning_rate=1e-5),\n",
    "                        loss='categorical_crossentropy',\n",
    "                        metrics=['f1_score','accuracy'])\n",
    "\n",
    "# we reload the dataloader but indicating the transform parameter to match the VGG16's."
   ]
  },
  {
   "cell_type": "markdown",
   "metadata": {},
   "source": [
    "## Entrenamiento"
   ]
  },
  {
   "cell_type": "code",
   "execution_count": null,
   "metadata": {},
   "outputs": [],
   "source": [
    "from tensorflow.keras.callbacks import ModelCheckpoint, EarlyStopping\n",
    "\n",
    "# Definimos el callback para guardar el mejor modelo según la métrica elegida\n",
    "model_vgg_path = 'model_vgg_2_augmented.keras'\n",
    "vgg_history_path_pkl = 'model_vgg_2_augmented.pkl'\n",
    "early_stop = EarlyStopping(\n",
    "    monitor='val_loss',\n",
    "    patience=2,\n",
    "    restore_best_weights=True  # Good for in-memory use right after training\n",
    ")\n",
    "checkpoint_callback = ModelCheckpoint(\n",
    "    filepath=model_vgg_path,   # Se generará una carpeta con este nombre\n",
    "    monitor='val_loss',            # Métrica a monitorear ('val_accuracy' es otra opción)\n",
    "    save_best_only=True,           # Guarda solo si hay mejora\n",
    "    save_weights_only=False,       # Guarda la arquitectura + pesos\n",
    "    verbose=1\n",
    ")"
   ]
  },
  {
   "cell_type": "code",
   "execution_count": null,
   "metadata": {},
   "outputs": [
    {
     "name": "stdout",
     "output_type": "stream",
     "text": [
      "Epoch 1/10\n",
      "\u001b[1m1358/1358\u001b[0m \u001b[32m━━━━━━━━━━━━━━━━━━━━\u001b[0m\u001b[37m\u001b[0m \u001b[1m0s\u001b[0m 223ms/step - accuracy: 0.7516 - f1_score: 0.6751 - loss: 1.0993\n",
      "Epoch 1: val_loss improved from inf to 0.12982, saving model to model_vgg_10.keras\n",
      "\u001b[1m1358/1358\u001b[0m \u001b[32m━━━━━━━━━━━━━━━━━━━━\u001b[0m\u001b[37m\u001b[0m \u001b[1m346s\u001b[0m 250ms/step - accuracy: 0.7517 - f1_score: 0.6752 - loss: 1.0989 - val_accuracy: 0.9611 - val_f1_score: 0.9510 - val_loss: 0.1298\n",
      "Epoch 2/10\n",
      "\u001b[1m1358/1358\u001b[0m \u001b[32m━━━━━━━━━━━━━━━━━━━━\u001b[0m\u001b[37m\u001b[0m \u001b[1m0s\u001b[0m 215ms/step - accuracy: 0.9821 - f1_score: 0.9749 - loss: 0.0575\n",
      "Epoch 2: val_loss improved from 0.12982 to 0.09161, saving model to model_vgg_10.keras\n",
      "\u001b[1m1358/1358\u001b[0m \u001b[32m━━━━━━━━━━━━━━━━━━━━\u001b[0m\u001b[37m\u001b[0m \u001b[1m328s\u001b[0m 241ms/step - accuracy: 0.9821 - f1_score: 0.9749 - loss: 0.0575 - val_accuracy: 0.9740 - val_f1_score: 0.9641 - val_loss: 0.0916\n",
      "Epoch 3/10\n",
      "\u001b[1m1358/1358\u001b[0m \u001b[32m━━━━━━━━━━━━━━━━━━━━\u001b[0m\u001b[37m\u001b[0m \u001b[1m0s\u001b[0m 215ms/step - accuracy: 0.9908 - f1_score: 0.9860 - loss: 0.0296\n",
      "Epoch 3: val_loss did not improve from 0.09161\n",
      "\u001b[1m1358/1358\u001b[0m \u001b[32m━━━━━━━━━━━━━━━━━━━━\u001b[0m\u001b[37m\u001b[0m \u001b[1m326s\u001b[0m 240ms/step - accuracy: 0.9908 - f1_score: 0.9860 - loss: 0.0296 - val_accuracy: 0.9687 - val_f1_score: 0.9559 - val_loss: 0.1339\n",
      "Epoch 4/10\n",
      "\u001b[1m1358/1358\u001b[0m \u001b[32m━━━━━━━━━━━━━━━━━━━━\u001b[0m\u001b[37m\u001b[0m \u001b[1m0s\u001b[0m 215ms/step - accuracy: 0.9921 - f1_score: 0.9868 - loss: 0.0277\n",
      "Epoch 4: val_loss improved from 0.09161 to 0.07578, saving model to model_vgg_10.keras\n",
      "\u001b[1m1358/1358\u001b[0m \u001b[32m━━━━━━━━━━━━━━━━━━━━\u001b[0m\u001b[37m\u001b[0m \u001b[1m328s\u001b[0m 241ms/step - accuracy: 0.9921 - f1_score: 0.9868 - loss: 0.0277 - val_accuracy: 0.9794 - val_f1_score: 0.9703 - val_loss: 0.0758\n",
      "Epoch 5/10\n",
      "\u001b[1m1358/1358\u001b[0m \u001b[32m━━━━━━━━━━━━━━━━━━━━\u001b[0m\u001b[37m\u001b[0m \u001b[1m0s\u001b[0m 216ms/step - accuracy: 0.9945 - f1_score: 0.9921 - loss: 0.0176\n",
      "Epoch 5: val_loss improved from 0.07578 to 0.04932, saving model to model_vgg_10.keras\n",
      "\u001b[1m1358/1358\u001b[0m \u001b[32m━━━━━━━━━━━━━━━━━━━━\u001b[0m\u001b[37m\u001b[0m \u001b[1m328s\u001b[0m 242ms/step - accuracy: 0.9945 - f1_score: 0.9921 - loss: 0.0176 - val_accuracy: 0.9864 - val_f1_score: 0.9820 - val_loss: 0.0493\n",
      "Epoch 6/10\n",
      "\u001b[1m1358/1358\u001b[0m \u001b[32m━━━━━━━━━━━━━━━━━━━━\u001b[0m\u001b[37m\u001b[0m \u001b[1m0s\u001b[0m 216ms/step - accuracy: 0.9948 - f1_score: 0.9912 - loss: 0.0169\n",
      "Epoch 6: val_loss did not improve from 0.04932\n",
      "\u001b[1m1358/1358\u001b[0m \u001b[32m━━━━━━━━━━━━━━━━━━━━\u001b[0m\u001b[37m\u001b[0m \u001b[1m326s\u001b[0m 240ms/step - accuracy: 0.9948 - f1_score: 0.9912 - loss: 0.0169 - val_accuracy: 0.9853 - val_f1_score: 0.9778 - val_loss: 0.0565\n",
      "Epoch 7/10\n",
      "\u001b[1m1358/1358\u001b[0m \u001b[32m━━━━━━━━━━━━━━━━━━━━\u001b[0m\u001b[37m\u001b[0m \u001b[1m0s\u001b[0m 216ms/step - accuracy: 0.9956 - f1_score: 0.9920 - loss: 0.0144\n",
      "Epoch 7: val_loss did not improve from 0.04932\n",
      "\u001b[1m1358/1358\u001b[0m \u001b[32m━━━━━━━━━━━━━━━━━━━━\u001b[0m\u001b[37m\u001b[0m \u001b[1m327s\u001b[0m 240ms/step - accuracy: 0.9956 - f1_score: 0.9920 - loss: 0.0144 - val_accuracy: 0.9874 - val_f1_score: 0.9837 - val_loss: 0.0526\n"
     ]
    }
   ],
   "source": [
    "from architectures import VGG_TF  # Import the custom class\n",
    "\n",
    "# Check if the model file exists\n",
    "if os.path.exists(model_vgg_path):\n",
    "    print(f\"Loading existing model from: {model_vgg_path}\")\n",
    "    model_vgg = keras.models.load_model(model_vgg_path)\n",
    "\n",
    "    # Try to load the training history (optional)\n",
    "    if os.path.exists(vgg_history_path_pkl):\n",
    "        with open(vgg_history_path_pkl, 'rb') as file:\n",
    "            history = pickle.load(file)\n",
    "        print(f\"Loaded training history from: {vgg_history_path_pkl}\")\n",
    "    else:\n",
    "        history = None\n",
    "        print(\"No training history file found.\")\n",
    "\n",
    "else:\n",
    "    \n",
    "    # log_dir = \"logs/fit/\" + datetime.now().strftime(\"%Y%m%d-%H%M%S\")\n",
    "    # tensorboard_callback = tf.keras.callbacks.TensorBoard(log_dir=log_dir, histogram_freq=1)\n",
    "    history = model_vgg_2.fit(train_images,\n",
    "                    validation_data=test_images,\n",
    "                    epochs=10,\n",
    "                            callbacks=[checkpoint_callback,early_stop])#,tensorboard_callback])\n",
    "    # Save the entire history object using pickle\n",
    "    with open(vgg_history_path_pkl, 'wb') as file:\n",
    "        pickle.dump(history.history, file)"
   ]
  },
  {
   "cell_type": "markdown",
   "metadata": {},
   "source": [
    "## Gráficos"
   ]
  },
  {
   "cell_type": "code",
   "execution_count": null,
   "metadata": {},
   "outputs": [],
   "source": [
    "vgg_model_stats = {'Vgg16_5': {'training_time': 1,\n",
    "                                'train_f1_score_history': history['f1_score'],\n",
    "                                 'val_f1_score_history': history['val_f1_score'],\n",
    "                                }\n",
    "                  }\n",
    "models_to_evaluate = {'Vgg16_5': model_vgg}\n",
    "metrics_to_test = {\n",
    "        'f1_score': f1_score,\n",
    "    'accuracy': accuracy_score\n",
    "    }\n",
    "dataloaders = {\n",
    "        'test': test_images,\n",
    "    'train': train_images\n",
    "    }\n",
    "\n",
    "import numpy as np\n",
    "\n",
    "def one_hot_to_labels(x):\n",
    "    return np.argmax(x, axis=1)\n",
    "\n",
    "evaluation_metrics = {\n",
    "    'f1_score': lambda y, p: f1_score(one_hot_to_labels(y), one_hot_to_labels(p), average='macro'),\n",
    "    'accuracy': lambda y, p: accuracy_score(one_hot_to_labels(y), one_hot_to_labels(p))\n",
    "}\n",
    "\n",
    "# Evaluate the models\n",
    "results = evaluate_multiple_models(models_to_evaluate, dataloaders['train'], ['f1_score','accuracy'],evaluation_metrics)"
   ]
  },
  {
   "cell_type": "code",
   "execution_count": null,
   "metadata": {},
   "outputs": [
    {
     "data": {
      "text/plain": [
       "{'Vgg16_finetunedmodel': {'f1_score': <tf.Tensor: shape=(38,), dtype=float32, numpy=\n",
       "  array([0.9808274 , 0.9603864 , 0.9931662 , 0.9935138 , 0.9979175 ,\n",
       "         0.9964454 , 0.99337745, 0.8426966 , 0.99842346, 0.9329376 ,\n",
       "         1.        , 0.99157006, 0.99272716, 0.9947643 , 0.9955555 ,\n",
       "         0.99818057, 0.9978213 , 0.99651563, 0.98807275, 0.9953644 ,\n",
       "         0.9886363 , 0.97703284, 0.9579832 , 0.99663293, 0.99816006,\n",
       "         0.9996592 , 0.99887127, 0.99726766, 0.9685534 , 0.8026805 ,\n",
       "         0.9328817 , 0.95947707, 0.9424434 , 0.9238754 , 0.91396844,\n",
       "         0.9954412 , 0.95462185, 0.9832227 ], dtype=float32)>,\n",
       "  'accuracy': 0.9788233041763306}}"
      ]
     },
     "metadata": {},
     "output_type": "display_data"
    }
   ],
   "source": [
    "results"
   ]
  },
  {
   "cell_type": "code",
   "execution_count": null,
   "metadata": {},
   "outputs": [],
   "source": [
    "results['Vgg16_finetunedmodel']['f1_score'] = np.mean(results['Vgg16_finetunedmodel']['f1_score'])"
   ]
  },
  {
   "cell_type": "code",
   "execution_count": null,
   "metadata": {},
   "outputs": [],
   "source": [
    "# Convert to flat DataFrame\n",
    "flat_results = []\n",
    "for model_name, metrics in results.items():\n",
    "    row = {'model_name': model_name}\n",
    "    for metric_name, value in metrics.items():\n",
    "        # Convert tf.Tensor or np.ndarray to float\n",
    "        if isinstance(value, (tf.Tensor, np.ndarray)):\n",
    "            row[metric_name] = float(value.numpy())  # unwrap scalar tensor\n",
    "        else:\n",
    "            row[metric_name] = value\n",
    "    flat_results.append(row)\n",
    "\n",
    "df = pd.DataFrame(flat_results)"
   ]
  },
  {
   "cell_type": "code",
   "execution_count": null,
   "metadata": {},
   "outputs": [
    {
     "data": {
      "image/png": "[encoded data removed]",
      "text/plain": [
       "<Figure size 1000x1000 with 2 Axes>"
      ]
     },
     "metadata": {},
     "output_type": "display_data"
    }
   ],
   "source": [
    "plot_model_comparison(df,['f1_score','accuracy'],['test'])"
   ]
  }
 ],
 "metadata": {
  "kernelspec": {
   "display_name": "cv-env",
   "language": "python",
   "name": "python3"
  },
  "language_info": {
   "codemirror_mode": {
    "name": "ipython",
    "version": 3
   },
   "file_extension": ".py",
   "mimetype": "text/x-python",
   "name": "python",
   "nbconvert_exporter": "python",
   "pygments_lexer": "ipython3",
   "version": "3.11.11"
  }
 },
 "nbformat": 4,
 "nbformat_minor": 2
}
